{
 "cells": [
  {
   "cell_type": "code",
   "execution_count": 2,
   "metadata": {},
   "outputs": [],
   "source": [
    "import pandas as pd\n",
    "import numpy as np\n",
    "import matplotlib.pyplot as plt"
   ]
  },
  {
   "cell_type": "code",
   "execution_count": 3,
   "metadata": {},
   "outputs": [
    {
     "data": {
      "text/html": [
       "<div>\n",
       "<style scoped>\n",
       "    .dataframe tbody tr th:only-of-type {\n",
       "        vertical-align: middle;\n",
       "    }\n",
       "\n",
       "    .dataframe tbody tr th {\n",
       "        vertical-align: top;\n",
       "    }\n",
       "\n",
       "    .dataframe thead th {\n",
       "        text-align: right;\n",
       "    }\n",
       "</style>\n",
       "<table border=\"1\" class=\"dataframe\">\n",
       "  <thead>\n",
       "    <tr style=\"text-align: right;\">\n",
       "      <th></th>\n",
       "      <th>RowNumber</th>\n",
       "      <th>CustomerId</th>\n",
       "      <th>Surname</th>\n",
       "      <th>CreditScore</th>\n",
       "      <th>Geography</th>\n",
       "      <th>Gender</th>\n",
       "      <th>Age</th>\n",
       "      <th>Tenure</th>\n",
       "      <th>Balance</th>\n",
       "      <th>NumOfProducts</th>\n",
       "      <th>HasCrCard</th>\n",
       "      <th>IsActiveMember</th>\n",
       "      <th>EstimatedSalary</th>\n",
       "      <th>Exited</th>\n",
       "    </tr>\n",
       "  </thead>\n",
       "  <tbody>\n",
       "    <tr>\n",
       "      <th>0</th>\n",
       "      <td>1</td>\n",
       "      <td>15634602</td>\n",
       "      <td>Hargrave</td>\n",
       "      <td>619</td>\n",
       "      <td>France</td>\n",
       "      <td>Female</td>\n",
       "      <td>42</td>\n",
       "      <td>2</td>\n",
       "      <td>0.00</td>\n",
       "      <td>1</td>\n",
       "      <td>1</td>\n",
       "      <td>1</td>\n",
       "      <td>101348.88</td>\n",
       "      <td>1</td>\n",
       "    </tr>\n",
       "    <tr>\n",
       "      <th>1</th>\n",
       "      <td>2</td>\n",
       "      <td>15647311</td>\n",
       "      <td>Hill</td>\n",
       "      <td>608</td>\n",
       "      <td>Spain</td>\n",
       "      <td>Female</td>\n",
       "      <td>41</td>\n",
       "      <td>1</td>\n",
       "      <td>83807.86</td>\n",
       "      <td>1</td>\n",
       "      <td>0</td>\n",
       "      <td>1</td>\n",
       "      <td>112542.58</td>\n",
       "      <td>0</td>\n",
       "    </tr>\n",
       "    <tr>\n",
       "      <th>2</th>\n",
       "      <td>3</td>\n",
       "      <td>15619304</td>\n",
       "      <td>Onio</td>\n",
       "      <td>502</td>\n",
       "      <td>France</td>\n",
       "      <td>Female</td>\n",
       "      <td>42</td>\n",
       "      <td>8</td>\n",
       "      <td>159660.80</td>\n",
       "      <td>3</td>\n",
       "      <td>1</td>\n",
       "      <td>0</td>\n",
       "      <td>113931.57</td>\n",
       "      <td>1</td>\n",
       "    </tr>\n",
       "    <tr>\n",
       "      <th>3</th>\n",
       "      <td>4</td>\n",
       "      <td>15701354</td>\n",
       "      <td>Boni</td>\n",
       "      <td>699</td>\n",
       "      <td>France</td>\n",
       "      <td>Female</td>\n",
       "      <td>39</td>\n",
       "      <td>1</td>\n",
       "      <td>0.00</td>\n",
       "      <td>2</td>\n",
       "      <td>0</td>\n",
       "      <td>0</td>\n",
       "      <td>93826.63</td>\n",
       "      <td>0</td>\n",
       "    </tr>\n",
       "    <tr>\n",
       "      <th>4</th>\n",
       "      <td>5</td>\n",
       "      <td>15737888</td>\n",
       "      <td>Mitchell</td>\n",
       "      <td>850</td>\n",
       "      <td>Spain</td>\n",
       "      <td>Female</td>\n",
       "      <td>43</td>\n",
       "      <td>2</td>\n",
       "      <td>125510.82</td>\n",
       "      <td>1</td>\n",
       "      <td>1</td>\n",
       "      <td>1</td>\n",
       "      <td>79084.10</td>\n",
       "      <td>0</td>\n",
       "    </tr>\n",
       "  </tbody>\n",
       "</table>\n",
       "</div>"
      ],
      "text/plain": [
       "   RowNumber  CustomerId   Surname  CreditScore Geography  Gender  Age  \\\n",
       "0          1    15634602  Hargrave          619    France  Female   42   \n",
       "1          2    15647311      Hill          608     Spain  Female   41   \n",
       "2          3    15619304      Onio          502    France  Female   42   \n",
       "3          4    15701354      Boni          699    France  Female   39   \n",
       "4          5    15737888  Mitchell          850     Spain  Female   43   \n",
       "\n",
       "   Tenure    Balance  NumOfProducts  HasCrCard  IsActiveMember  \\\n",
       "0       2       0.00              1          1               1   \n",
       "1       1   83807.86              1          0               1   \n",
       "2       8  159660.80              3          1               0   \n",
       "3       1       0.00              2          0               0   \n",
       "4       2  125510.82              1          1               1   \n",
       "\n",
       "   EstimatedSalary  Exited  \n",
       "0        101348.88       1  \n",
       "1        112542.58       0  \n",
       "2        113931.57       1  \n",
       "3         93826.63       0  \n",
       "4         79084.10       0  "
      ]
     },
     "execution_count": 3,
     "metadata": {},
     "output_type": "execute_result"
    }
   ],
   "source": [
    "df=pd.read_csv('Churn_Modelling.csv')\n",
    "df.head(5)"
   ]
  },
  {
   "cell_type": "code",
   "execution_count": 4,
   "metadata": {},
   "outputs": [],
   "source": [
    "x=df.iloc[:,3:13].values\n",
    "y=df.iloc[:,13].values\n"
   ]
  },
  {
   "cell_type": "code",
   "execution_count": 5,
   "metadata": {},
   "outputs": [],
   "source": [
    "#from sklearn.preprocessing import OneHotEncoder\n",
    "#ohe=OneHotEncoder(categorical_features=[1])\n",
    "#x=ohe.fit_transform(x).toarray()\n",
    "dumy=pd.get_dummies(df.Geography)\n",
    "\n",
    "dumy1=pd.get_dummies(df.Gender)\n",
    "merge=pd.concat([dumy,dumy1,df],axis=1)\n",
    "merge\n",
    "final=merge.drop(['Spain','Female','Gender','Geography','RowNumber','CustomerId','Surname'],axis=1)\n",
    "x=final.drop(['Exited'],axis=1)\n",
    "y=final.Exited\n"
   ]
  },
  {
   "cell_type": "code",
   "execution_count": 7,
   "metadata": {},
   "outputs": [],
   "source": [
    "from sklearn.model_selection import train_test_split\n",
    "x_train, x_test, y_train, y_test=train_test_split(x,y,test_size=0.25,random_state=0)\n"
   ]
  },
  {
   "cell_type": "code",
   "execution_count": 8,
   "metadata": {},
   "outputs": [
    {
     "data": {
      "text/plain": [
       "(7500, 11)"
      ]
     },
     "execution_count": 8,
     "metadata": {},
     "output_type": "execute_result"
    }
   ],
   "source": [
    "x_train.shape\n"
   ]
  },
  {
   "cell_type": "code",
   "execution_count": 9,
   "metadata": {},
   "outputs": [
    {
     "name": "stderr",
     "output_type": "stream",
     "text": [
      "C:\\Users\\harshit\\Anaconda3\\lib\\site-packages\\sklearn\\preprocessing\\data.py:645: DataConversionWarning: Data with input dtype uint8, int64, float64 were all converted to float64 by StandardScaler.\n",
      "  return self.partial_fit(X, y)\n",
      "C:\\Users\\harshit\\Anaconda3\\lib\\site-packages\\sklearn\\base.py:464: DataConversionWarning: Data with input dtype uint8, int64, float64 were all converted to float64 by StandardScaler.\n",
      "  return self.fit(X, **fit_params).transform(X)\n",
      "C:\\Users\\harshit\\Anaconda3\\lib\\site-packages\\ipykernel_launcher.py:4: DataConversionWarning: Data with input dtype uint8, int64, float64 were all converted to float64 by StandardScaler.\n",
      "  after removing the cwd from sys.path.\n"
     ]
    }
   ],
   "source": [
    "from sklearn.preprocessing import StandardScaler\n",
    "sc=StandardScaler()\n",
    "x_train=sc.fit_transform(x_train)\n",
    "x_test=sc.transform(x_test)"
   ]
  },
  {
   "cell_type": "code",
   "execution_count": 10,
   "metadata": {},
   "outputs": [
    {
     "name": "stderr",
     "output_type": "stream",
     "text": [
      "Using TensorFlow backend.\n"
     ]
    }
   ],
   "source": [
    "import keras\n",
    "from keras.models import Sequential\n",
    "from keras.layers import Dense\n"
   ]
  },
  {
   "cell_type": "code",
   "execution_count": 11,
   "metadata": {},
   "outputs": [],
   "source": [
    "classifier = Sequential()"
   ]
  },
  {
   "cell_type": "code",
   "execution_count": 12,
   "metadata": {},
   "outputs": [],
   "source": [
    "classifier.add(Dense(input_dim = 11, units = 6, kernel_initializer = 'he_normal',activation = 'relu')) # 1st layer\n",
    "classifier.add(Dense(units = 6, kernel_initializer = 'he_normal',activation = 'relu')) # 2nd layer\n",
    "classifier.add(Dense(units = 1, kernel_initializer = 'glorot_uniform',activation = 'sigmoid')) # output layer\n"
   ]
  },
  {
   "cell_type": "code",
   "execution_count": 13,
   "metadata": {},
   "outputs": [
    {
     "name": "stderr",
     "output_type": "stream",
     "text": [
      "WARNING: Logging before flag parsing goes to stderr.\n",
      "W0510 15:56:59.093283  4436 deprecation.py:323] From C:\\Users\\harshit\\Anaconda3\\lib\\site-packages\\tensorflow\\python\\ops\\nn_impl.py:180: add_dispatch_support.<locals>.wrapper (from tensorflow.python.ops.array_ops) is deprecated and will be removed in a future version.\n",
      "Instructions for updating:\n",
      "Use tf.where in 2.0, which has the same broadcast rule as np.where\n"
     ]
    }
   ],
   "source": [
    "classifier.compile(optimizer = 'adam', loss = 'binary_crossentropy', metrics = ['accuracy'])"
   ]
  },
  {
   "cell_type": "code",
   "execution_count": 15,
   "metadata": {},
   "outputs": [
    {
     "name": "stdout",
     "output_type": "stream",
     "text": [
      "Epoch 1/30\n",
      "7500/7500 [==============================] - 0s 17us/step - loss: 0.4024 - accuracy: 0.8284\n",
      "Epoch 2/30\n",
      "7500/7500 [==============================] - 0s 19us/step - loss: 0.3997 - accuracy: 0.8303\n",
      "Epoch 3/30\n",
      "7500/7500 [==============================] - 0s 19us/step - loss: 0.3969 - accuracy: 0.8311\n",
      "Epoch 4/30\n",
      "7500/7500 [==============================] - 0s 18us/step - loss: 0.3943 - accuracy: 0.8337\n",
      "Epoch 5/30\n",
      "7500/7500 [==============================] - 0s 19us/step - loss: 0.3918 - accuracy: 0.8347\n",
      "Epoch 6/30\n",
      "7500/7500 [==============================] - 0s 18us/step - loss: 0.3895 - accuracy: 0.8357\n",
      "Epoch 7/30\n",
      "7500/7500 [==============================] - 0s 18us/step - loss: 0.3873 - accuracy: 0.8367\n",
      "Epoch 8/30\n",
      "7500/7500 [==============================] - 0s 19us/step - loss: 0.3852 - accuracy: 0.8388\n",
      "Epoch 9/30\n",
      "7500/7500 [==============================] - 0s 19us/step - loss: 0.3833 - accuracy: 0.8388\n",
      "Epoch 10/30\n",
      "7500/7500 [==============================] - 0s 19us/step - loss: 0.3814 - accuracy: 0.8391\n",
      "Epoch 11/30\n",
      "7500/7500 [==============================] - 0s 18us/step - loss: 0.3796 - accuracy: 0.8388\n",
      "Epoch 12/30\n",
      "7500/7500 [==============================] - 0s 19us/step - loss: 0.3780 - accuracy: 0.8415\n",
      "Epoch 13/30\n",
      "7500/7500 [==============================] - 0s 18us/step - loss: 0.3764 - accuracy: 0.8412\n",
      "Epoch 14/30\n",
      "7500/7500 [==============================] - 0s 19us/step - loss: 0.3750 - accuracy: 0.8408\n",
      "Epoch 15/30\n",
      "7500/7500 [==============================] - 0s 17us/step - loss: 0.3736 - accuracy: 0.8413\n",
      "Epoch 16/30\n",
      "7500/7500 [==============================] - 0s 17us/step - loss: 0.3724 - accuracy: 0.8413\n",
      "Epoch 17/30\n",
      "7500/7500 [==============================] - 0s 19us/step - loss: 0.3712 - accuracy: 0.8428\n",
      "Epoch 18/30\n",
      "7500/7500 [==============================] - 0s 18us/step - loss: 0.3701 - accuracy: 0.8427\n",
      "Epoch 19/30\n",
      "7500/7500 [==============================] - 0s 18us/step - loss: 0.3691 - accuracy: 0.8439\n",
      "Epoch 20/30\n",
      "7500/7500 [==============================] - 0s 17us/step - loss: 0.3681 - accuracy: 0.8440\n",
      "Epoch 21/30\n",
      "7500/7500 [==============================] - 0s 18us/step - loss: 0.3672 - accuracy: 0.8443\n",
      "Epoch 22/30\n",
      "7500/7500 [==============================] - 0s 17us/step - loss: 0.3664 - accuracy: 0.8440\n",
      "Epoch 23/30\n",
      "7500/7500 [==============================] - 0s 18us/step - loss: 0.3656 - accuracy: 0.8440\n",
      "Epoch 24/30\n",
      "7500/7500 [==============================] - 0s 18us/step - loss: 0.3650 - accuracy: 0.8443\n",
      "Epoch 25/30\n",
      "7500/7500 [==============================] - 0s 18us/step - loss: 0.3642 - accuracy: 0.8452\n",
      "Epoch 26/30\n",
      "7500/7500 [==============================] - 0s 18us/step - loss: 0.3637 - accuracy: 0.8453\n",
      "Epoch 27/30\n",
      "7500/7500 [==============================] - 0s 18us/step - loss: 0.3631 - accuracy: 0.8463\n",
      "Epoch 28/30\n",
      "7500/7500 [==============================] - 0s 18us/step - loss: 0.3625 - accuracy: 0.8465\n",
      "Epoch 29/30\n",
      "7500/7500 [==============================] - 0s 17us/step - loss: 0.3619 - accuracy: 0.8471\n",
      "Epoch 30/30\n",
      "7500/7500 [==============================] - 0s 17us/step - loss: 0.3614 - accuracy: 0.8465\n"
     ]
    },
    {
     "data": {
      "text/plain": [
       "<keras.callbacks.callbacks.History at 0xcc31436cc0>"
      ]
     },
     "execution_count": 15,
     "metadata": {},
     "output_type": "execute_result"
    }
   ],
   "source": [
    "classifier.fit(x_train, y_train,batch_size=250, epochs = 30)"
   ]
  },
  {
   "cell_type": "code",
   "execution_count": 16,
   "metadata": {},
   "outputs": [
    {
     "data": {
      "text/plain": [
       "array([[False],\n",
       "       [False],\n",
       "       [False],\n",
       "       ...,\n",
       "       [False],\n",
       "       [False],\n",
       "       [False]])"
      ]
     },
     "execution_count": 16,
     "metadata": {},
     "output_type": "execute_result"
    }
   ],
   "source": [
    "pred= classifier.predict(x_test)\n",
    "pred= (pred > 0.5)\n",
    "pred"
   ]
  },
  {
   "cell_type": "code",
   "execution_count": 17,
   "metadata": {},
   "outputs": [
    {
     "data": {
      "text/plain": [
       "array([[1885,  106],\n",
       "       [ 276,  233]], dtype=int64)"
      ]
     },
     "execution_count": 17,
     "metadata": {},
     "output_type": "execute_result"
    }
   ],
   "source": [
    "from sklearn.metrics import confusion_matrix\n",
    "#accuracy_score(y_test,pred)\n",
    "confusion_matrix(y_test,pred)"
   ]
  },
  {
   "cell_type": "code",
   "execution_count": 18,
   "metadata": {},
   "outputs": [
    {
     "data": {
      "text/plain": [
       "0.8472"
      ]
     },
     "execution_count": 18,
     "metadata": {},
     "output_type": "execute_result"
    }
   ],
   "source": [
    "from sklearn.metrics import accuracy_score\n",
    "accuracy_score(y_test,pred)"
   ]
  },
  {
   "cell_type": "code",
   "execution_count": null,
   "metadata": {},
   "outputs": [],
   "source": []
  },
  {
   "cell_type": "code",
   "execution_count": null,
   "metadata": {},
   "outputs": [],
   "source": []
  }
 ],
 "metadata": {
  "kernelspec": {
   "display_name": "Python 3",
   "language": "python",
   "name": "python3"
  },
  "language_info": {
   "codemirror_mode": {
    "name": "ipython",
    "version": 3
   },
   "file_extension": ".py",
   "mimetype": "text/x-python",
   "name": "python",
   "nbconvert_exporter": "python",
   "pygments_lexer": "ipython3",
   "version": "3.7.3"
  }
 },
 "nbformat": 4,
 "nbformat_minor": 2
}
